{
  "nbformat": 4,
  "nbformat_minor": 0,
  "metadata": {
    "kernelspec": {
      "display_name": "Python 3",
      "language": "python",
      "name": "python3"
    },
    "language_info": {
      "codemirror_mode": {
        "name": "ipython",
        "version": 3
      },
      "file_extension": ".py",
      "mimetype": "text/x-python",
      "name": "python",
      "nbconvert_exporter": "python",
      "pygments_lexer": "ipython3",
      "version": "3.7.6"
    },
    "colab": {
      "name": "Predicting shot outcomes from the 2018 World Cup.ipynb",
      "provenance": []
    }
  },
  "cells": [
    {
      "cell_type": "markdown",
      "metadata": {
        "id": "yXRXDEyF1FOS"
      },
      "source": [
        "# **Predicting shot outcomes from the 2018 FIFA World Cup using logistic regression**"
      ]
    },
    {
      "cell_type": "markdown",
      "metadata": {
        "id": "wp2o1nubyTJA"
      },
      "source": [
        "This project outlines the steps involved in predicting shout outcomes using logisitic regression and shot data from the 2018 FIFA World Cup. The data for this project is provided by the StatsBomb [Open Data](https://github.com/statsbomb/open-data) repository. The framework for the project is inspired by [Devin Pleuler](https://twitter.com/devinpleuler)'s tutorial on logistic regression from his [Soccer Analytics Handbook](https://github.com/devinpleuler/analytics-handbook).\n",
        "\n",
        "\n",
        "Logistic regression is used in classification problems when there are two possible labels for the target variable. In this case, the two possible labels are a goal or not a goal.\n",
        "\n",
        "Given the features of the dataset, in this case, the distance from goal, the goal angle, and whether it was a headed shot or not, logistic regression will output a probability for the target variable. If the probability is greater than 0.5, the data is labelled as '1'; if the probability is less than 0.5, the data is labelled as '0'.\n",
        "\n",
        "Logistic regression is used in a variety of machine learning applications and is a vital part of any data science toolbox.\n",
        "\n",
        "Ok, let's get ready to ROC (first and last time, I promise)."
      ]
    },
    {
      "cell_type": "markdown",
      "metadata": {
        "id": "oIuln4E7Z0tu"
      },
      "source": [
        "## **Importing Data and Exploritory Data Analysis (EDA)**"
      ]
    },
    {
      "cell_type": "code",
      "metadata": {
        "id": "gw7sF2LF1FOW"
      },
      "source": [
        "# Import packages for EDA\n",
        "import requests\n",
        "import pandas as pd\n",
        "import numpy as np\n",
        "import matplotlib.pyplot as plt"
      ],
      "execution_count": 1,
      "outputs": []
    },
    {
      "cell_type": "markdown",
      "metadata": {
        "id": "pGA2sPwAEfYK"
      },
      "source": [
        "The URLs below provide the locations where the raw StatsBomb data is stored."
      ]
    },
    {
      "cell_type": "code",
      "metadata": {
        "id": "2rk0skWo1FOZ"
      },
      "source": [
        "# Define variables for reading in the Statsbomb data\n",
        "base_url = \"https://raw.githubusercontent.com/statsbomb/open-data/master/data/\"\n",
        "comp_url = base_url + \"matches/{}/{}.json\"\n",
        "match_url = base_url + \"events/{}.json\""
      ],
      "execution_count": 2,
      "outputs": []
    },
    {
      "cell_type": "markdown",
      "metadata": {
        "id": "895bghEH1FOb"
      },
      "source": [
        "This **parse_data** function below collects the following attributes of each shot from the Statsbomb data:\n",
        "- x-coordinate\n",
        "- y-coordinate\n",
        "    - the pitch dimensions are 80 x 120\n",
        "- if it was a headed shot\n",
        "- the phase of play the shot was attempted in\n",
        "- the outcome of the shot (goal or no goal)\n",
        "- statsbomb_xg (Statsbomb's xG for comparison with the model's predictions)"
      ]
    },
    {
      "cell_type": "code",
      "metadata": {
        "id": "OqWuSz5q1FOa"
      },
      "source": [
        "def parse_data(competition_id, season_id):\n",
        "    matches = requests.get(url=comp_url.format(competition_id, season_id)).json()\n",
        "    match_ids = [m['match_id'] for m in matches]\n",
        "\n",
        "    all_events = []\n",
        "    for match_id in match_ids:\n",
        "\n",
        "        events = requests.get(url=match_url.format(match_id)).json()\n",
        "        shots = [x for x in events if x['type']['name'] == \"Shot\"]\n",
        "                \n",
        "        for s in shots:\n",
        "            attributes = {\n",
        "                \"x\": s['location'][0],\n",
        "                \"y\": s['location'][1],\n",
        "                \"head\": 1 if s['shot']['body_part']['name'] == \"Head\" else 0,\n",
        "                \"phase\": s['shot']['type']['name'],\n",
        "                \"outcome\": 1 if s['shot']['outcome']['name'] == \"Goal\" else 0,\n",
        "                \"statsbomb_xg\": s['shot']['statsbomb_xg']\n",
        "            }\n",
        "            all_events.append(attributes)\n",
        "            \n",
        "    return pd.DataFrame(all_events)"
      ],
      "execution_count": 3,
      "outputs": []
    },
    {
      "cell_type": "markdown",
      "metadata": {
        "id": "60dAJHNFEfYQ"
      },
      "source": [
        "- **43** is StatsBomb's Competition ID for the World Cup\n",
        "- **3** is StatsBomb's Season ID for the 2018 Season"
      ]
    },
    {
      "cell_type": "code",
      "metadata": {
        "id": "3GDzMqAy1FOc"
      },
      "source": [
        "# Define the competition_id and season_id, and parse the data\n",
        "competition_id = 43\n",
        "season_id = 3\n",
        "wc_2018 = parse_data(competition_id, season_id)"
      ],
      "execution_count": 4,
      "outputs": []
    },
    {
      "cell_type": "code",
      "metadata": {
        "colab": {
          "base_uri": "https://localhost:8080/"
        },
        "id": "SD7FPyTuIlZ6",
        "outputId": "e28ff18a-7fc9-4251-c7fa-baa36c70d90f"
      },
      "source": [
        "# Print summary statistics\n",
        "description = wc_2018.describe()\n",
        "print(description)\n",
        "\n",
        "print(\"\\n\")\n",
        "\n",
        "# Check the automatically assigned data types\n",
        "info = wc_2018.info()\n",
        "print(info)\n",
        "\n",
        "print(\"\\n\")"
      ],
      "execution_count": 5,
      "outputs": [
        {
          "output_type": "stream",
          "text": [
            "                 x            y         head      outcome  statsbomb_xg\n",
            "count  1706.000000  1706.000000  1706.000000  1706.000000   1706.000000\n",
            "mean    103.964830    40.183470     0.181712     0.107268      0.110305\n",
            "std       8.714564    10.270236     0.385720     0.309545      0.171226\n",
            "min      59.000000    13.000000     0.000000     0.000000      0.007366\n",
            "25%      97.000000    33.000000     0.000000     0.000000      0.025467\n",
            "50%     105.000000    40.000000     0.000000     0.000000      0.047136\n",
            "75%     111.000000    48.000000     0.000000     0.000000      0.104312\n",
            "max     119.000000    69.000000     1.000000     1.000000      0.931740\n",
            "\n",
            "\n",
            "<class 'pandas.core.frame.DataFrame'>\n",
            "RangeIndex: 1706 entries, 0 to 1705\n",
            "Data columns (total 6 columns):\n",
            " #   Column        Non-Null Count  Dtype  \n",
            "---  ------        --------------  -----  \n",
            " 0   x             1706 non-null   float64\n",
            " 1   y             1706 non-null   float64\n",
            " 2   head          1706 non-null   int64  \n",
            " 3   phase         1706 non-null   object \n",
            " 4   outcome       1706 non-null   int64  \n",
            " 5   statsbomb_xg  1706 non-null   float64\n",
            "dtypes: float64(3), int64(2), object(1)\n",
            "memory usage: 80.1+ KB\n",
            "None\n",
            "\n",
            "\n"
          ],
          "name": "stdout"
        }
      ]
    },
    {
      "cell_type": "code",
      "metadata": {
        "colab": {
          "base_uri": "https://localhost:8080/"
        },
        "id": "hgpupq8UUm-o",
        "outputId": "afef2f1d-21a4-4676-e01e-b68a8009aa54"
      },
      "source": [
        "# Check for missing values\n",
        "print(\"Count of missing values in each column of the dataset:\")\n",
        "wc_2018.isna().sum()"
      ],
      "execution_count": 6,
      "outputs": [
        {
          "output_type": "stream",
          "text": [
            "Count of missing values in each column of the dataset:\n"
          ],
          "name": "stdout"
        },
        {
          "output_type": "execute_result",
          "data": {
            "text/plain": [
              "x               0\n",
              "y               0\n",
              "head            0\n",
              "phase           0\n",
              "outcome         0\n",
              "statsbomb_xg    0\n",
              "dtype: int64"
            ]
          },
          "metadata": {
            "tags": []
          },
          "execution_count": 6
        }
      ]
    },
    {
      "cell_type": "code",
      "metadata": {
        "colab": {
          "base_uri": "https://localhost:8080/"
        },
        "id": "6byOEU-mU2qp",
        "outputId": "f737cdf5-2d83-4491-c3e8-b3ee3552b00d"
      },
      "source": [
        "# Determine the number of observations in the dataset\n",
        "wc_2018.shape"
      ],
      "execution_count": 7,
      "outputs": [
        {
          "output_type": "execute_result",
          "data": {
            "text/plain": [
              "(1706, 6)"
            ]
          },
          "metadata": {
            "tags": []
          },
          "execution_count": 7
        }
      ]
    },
    {
      "cell_type": "code",
      "metadata": {
        "colab": {
          "base_uri": "https://localhost:8080/"
        },
        "id": "cacicjsRH2Jq",
        "outputId": "45ba6593-74ad-4e8e-a7ee-f2bd9d7a0033"
      },
      "source": [
        "# Get the value counts for each outcome, sorted in descending order\n",
        "wc_2018['outcome'].value_counts().sort_values(ascending=False)"
      ],
      "execution_count": 8,
      "outputs": [
        {
          "output_type": "execute_result",
          "data": {
            "text/plain": [
              "0    1523\n",
              "1     183\n",
              "Name: outcome, dtype: int64"
            ]
          },
          "metadata": {
            "tags": []
          },
          "execution_count": 8
        }
      ]
    },
    {
      "cell_type": "markdown",
      "metadata": {
        "id": "Rfwh_PnVCOUI"
      },
      "source": [
        "There are 183 goals in this dataset."
      ]
    },
    {
      "cell_type": "code",
      "metadata": {
        "colab": {
          "base_uri": "https://localhost:8080/"
        },
        "id": "DB8mHtguUFi0",
        "outputId": "fe107ac7-c2ce-4090-ba9a-ac4e36c82ecd"
      },
      "source": [
        "# Get the value counts for each phase, sorted in descending order\n",
        "wc_2018['phase'].value_counts().sort_values(ascending=False)"
      ],
      "execution_count": 9,
      "outputs": [
        {
          "output_type": "execute_result",
          "data": {
            "text/plain": [
              "Open Play    1556\n",
              "Free Kick      82\n",
              "Penalty        68\n",
              "Name: phase, dtype: int64"
            ]
          },
          "metadata": {
            "tags": []
          },
          "execution_count": 9
        }
      ]
    },
    {
      "cell_type": "code",
      "metadata": {
        "colab": {
          "base_uri": "https://localhost:8080/"
        },
        "id": "gX5ldyH4gdwM",
        "outputId": "35459a3a-ec3a-4608-ca37-5abc20d18f95"
      },
      "source": [
        "# Get the value counts for headed shots, sorted in descending order\n",
        "wc_2018['head'].value_counts().sort_values(ascending=False)"
      ],
      "execution_count": 10,
      "outputs": [
        {
          "output_type": "execute_result",
          "data": {
            "text/plain": [
              "0    1396\n",
              "1     310\n",
              "Name: head, dtype: int64"
            ]
          },
          "metadata": {
            "tags": []
          },
          "execution_count": 10
        }
      ]
    },
    {
      "cell_type": "markdown",
      "metadata": {
        "id": "kJSTjlrpZsA5"
      },
      "source": [
        "## **Data Manipulation**"
      ]
    },
    {
      "cell_type": "markdown",
      "metadata": {
        "id": "B_j7yJW51FOf"
      },
      "source": [
        "This **distance_from_goal** function takes the x and y coordinates of a given shot and calculates how far from the center of the goal that shot is taken from."
      ]
    },
    {
      "cell_type": "code",
      "metadata": {
        "id": "4UOe-sSk1FOe"
      },
      "source": [
        "def distance_from_goal(origin):\n",
        "    dest = np.array([120., 40.])\n",
        "    return np.sqrt(np.sum((origin - dest) ** 2))"
      ],
      "execution_count": 11,
      "outputs": []
    },
    {
      "cell_type": "markdown",
      "metadata": {
        "id": "QoGYdf351FOh"
      },
      "source": [
        "The **goal_angle** function generates the angle of the goalmouth (in radians) that is available to the shooter at the time of the shot.\n",
        "\n",
        "The angle is determined by one of the interior angles between a triangle bounded by the origin of the shot and the coordinates of each goal post."
      ]
    },
    {
      "cell_type": "code",
      "metadata": {
        "id": "3hAtwiKQ1FOg"
      },
      "source": [
        "def goal_angle(origin):\n",
        "    p0 = np.array((120., 36.))  # Left Post\n",
        "    p1 = np.array(origin, dtype=np.float)\n",
        "    p2 = np.array((120., 44.))  # Right Post\n",
        "\n",
        "    v0 = p0 - p1\n",
        "    v1 = p2 - p1\n",
        "\n",
        "    angle = np.abs(np.math.atan2(np.linalg.det([v0, v1]), np.dot(v0, v1)))\n",
        "    \n",
        "    return angle"
      ],
      "execution_count": 12,
      "outputs": []
    },
    {
      "cell_type": "markdown",
      "metadata": {
        "id": "5LuD4tUJ1FOi"
      },
      "source": [
        "New columns titled **distance_to_goal** and **goal_angle** are added to every row in the DataFrame using a technique called [broadcasting](https://numpy.org/devdocs/user/basics.broadcasting.html).\n",
        "\n",
        "Broadcasting describes how numpy treats arrays with different shapes during arithmetic operations. Broadcasting provides a means of vectorizing array operations without making needless copies of data and usually leads to efficient algorithm implementations.\n",
        "\n",
        "**lambda** functions are anonymous functions that you can declare dynamically and allow you to avoid looping over DataFrames. You can learn more about lambda functions [here](https://www.w3schools.com/python/python_lambda.asp) (I certainly did)."
      ]
    },
    {
      "cell_type": "code",
      "metadata": {
        "id": "KwmiVwEI1FOh"
      },
      "source": [
        "# Create new columns with lambda functions\n",
        "wc_2018['distance_from_goal'] = wc_2018.apply(lambda row: distance_from_goal(row[['x', 'y']]), axis=1)\n",
        "wc_2018['goal_angle'] = wc_2018.apply(lambda r: goal_angle(r[['x', 'y']]), axis=1)"
      ],
      "execution_count": 13,
      "outputs": []
    },
    {
      "cell_type": "code",
      "metadata": {
        "id": "i4Pf1uQo1FOj"
      },
      "source": [
        "# Filter the DataFrame to remove all rows that have 'Free Kick' or 'Penalty' as it's designated 'phase'\n",
        "shots = wc_2018[~wc_2018['phase'].isin(['Free Kick', 'Penalty'])]"
      ],
      "execution_count": 14,
      "outputs": []
    },
    {
      "cell_type": "markdown",
      "metadata": {
        "id": "AOXJfyFn1FOj"
      },
      "source": [
        "These samples are removed before model development starts because they will skew the results as most samples are taken from open play."
      ]
    },
    {
      "cell_type": "markdown",
      "metadata": {
        "id": "VQN13N8lZmWP"
      },
      "source": [
        "## **Model Development**"
      ]
    },
    {
      "cell_type": "markdown",
      "metadata": {
        "id": "0XxSFx731FOl"
      },
      "source": [
        "The steps involved with model development are:\n",
        "- importing the necessary packages\n",
        "- instantiating the classifier\n",
        "- splitting the data into training and test sets\n",
        "- normalizing the train and test features\n",
        "- fitting the model t0 the training data\n",
        "- predicting on the test set\n",
        "- measuring the performance of the model"
      ]
    },
    {
      "cell_type": "code",
      "metadata": {
        "id": "t63Ab6Y41FOk"
      },
      "source": [
        "# Import required packages\n",
        "from sklearn.linear_model import LogisticRegression\n",
        "from sklearn.model_selection import train_test_split\n",
        "from sklearn.preprocessing import StandardScaler\n",
        "from sklearn.metrics import roc_curve\n",
        "from sklearn.metrics import roc_auc_score\n",
        "from sklearn.model_selection import cross_val_score\n",
        "from sklearn.metrics import confusion_matrix, classification_report\n",
        "from sklearn.metrics import precision_recall_curve\n",
        "from sklearn.metrics import f1_score"
      ],
      "execution_count": 16,
      "outputs": []
    },
    {
      "cell_type": "markdown",
      "metadata": {
        "id": "32KR89kFQHaX"
      },
      "source": [
        "The first step in model development is to split the the **shots** DataFrame into two new DataFrames that represent the *features* the model will be trained on and the *labels* that the model is trying to predict.\n",
        "\n",
        "\n"
      ]
    },
    {
      "cell_type": "code",
      "metadata": {
        "id": "fgDsKpWciE8u"
      },
      "source": [
        "# Split the data into features and labels\n",
        "features = shots[['distance_from_goal', 'goal_angle', 'head']]\n",
        "labels = shots['outcome']"
      ],
      "execution_count": 18,
      "outputs": []
    },
    {
      "cell_type": "code",
      "metadata": {
        "id": "7mDWiqWQL8NK"
      },
      "source": [
        "# Split data into train and test sets\n",
        "X_train, X_test, y_train, y_test = train_test_split(features,labels,test_size=0.25,random_state=42)"
      ],
      "execution_count": 19,
      "outputs": []
    },
    {
      "cell_type": "markdown",
      "metadata": {
        "id": "kQ3qnaQmStk-"
      },
      "source": [
        "Since the logistic regression model applies *linear* weights to each variable, it is important to normalize the continuous features such as **distance_to_goal** and **goal_angle**, which are not normally distributed. \n",
        "\n",
        "This is important because, in soccer, there is a small difference between a shot taken 25 metres from goal versus a shot taken 30 metres from goal, but a *big* difference between a shot taken 5 metres from goal versus a shot taken 10 metres from goal, even though the difference in distance is 5 metres for both examples. Without normalizing these features, the model can't make that sort of distinction.\n",
        "\n",
        "The **StandardScalar** function from the sklearn preprocessing package will be used to normalize the features for this model."
      ]
    },
    {
      "cell_type": "code",
      "metadata": {
        "id": "NkxWcEQ9TrUP"
      },
      "source": [
        "# Instantiate StandardScaler and use it to rescale X_train and X_test\n",
        "scaler = StandardScaler()\n",
        "rescaledX_train = scaler.fit_transform(X_train)\n",
        "rescaledX_test = scaler.transform(X_test)"
      ],
      "execution_count": 20,
      "outputs": []
    },
    {
      "cell_type": "code",
      "metadata": {
        "id": "ezYQVU_Z1FOk",
        "colab": {
          "base_uri": "https://localhost:8080/"
        },
        "outputId": "5152c3b1-e904-41be-aae0-d1eeec660360"
      },
      "source": [
        "# Instantiate a Logistic Regression 'model'\n",
        "model = LogisticRegression()\n",
        "# Fit 'model' to the training set\n",
        "fit = model.fit(rescaledX_train, y_train)\n",
        "# Predict the test set labels 'y_pred'\n",
        "y_pred = model.predict(rescaledX_test)\n",
        "# Calculate the label predictions on the test set using the model.predict_proba() method \n",
        "predictions = model.predict_proba(rescaledX_test)[:, 1]\n",
        "# Display the mean accuracy on the given test features and labels\n",
        "fit.score(rescaledX_test, y_test)"
      ],
      "execution_count": 21,
      "outputs": [
        {
          "output_type": "execute_result",
          "data": {
            "text/plain": [
              "0.9074550128534704"
            ]
          },
          "metadata": {
            "tags": []
          },
          "execution_count": 21
        }
      ]
    },
    {
      "cell_type": "markdown",
      "metadata": {
        "id": "Le3EjXW9MRV1"
      },
      "source": [
        "The model has a mean accuracy of 90.7%."
      ]
    },
    {
      "cell_type": "markdown",
      "metadata": {
        "id": "EQK_2RUrZf8A"
      },
      "source": [
        "## **Model Performance**\n",
        "\n",
        "Two metrics that can help measure the performance of binary classification predictive models are:\n",
        "- the receiver operating characteristic (ROC) curve\n",
        "- the area under the ROC curve (AUC)"
      ]
    },
    {
      "cell_type": "markdown",
      "metadata": {
        "id": "JeHwaNdDXbTf"
      },
      "source": [
        "### **ROC Curve**\n",
        "\n",
        "The *ROC curve* is a graph that shows the performance of a classification model at all classification thresholds. The ROC curve plots the True Positive Rate (TPR) against the False Positive Rate (FPR) at different classification thresholds. Lowering the classification threshold classifies more items as positive, thus increasing both False Positives and True Positives."
      ]
    },
    {
      "cell_type": "code",
      "metadata": {
        "colab": {
          "base_uri": "https://localhost:8080/",
          "height": 295
        },
        "id": "f52_NJ2AksmM",
        "outputId": "c2e69992-360f-4461-f2bc-eb2f3bd62b70"
      },
      "source": [
        "# Plotting the ROC curve\n",
        "y_pred_prob = model.predict_proba(rescaledX_test)[:,1]\n",
        "fpr, tpr, thresholds = roc_curve(y_test, y_pred_prob)\n",
        "plt.plot([0, 1], [0, 1],'k--')\n",
        "plt.plot(fpr, tpr, label='Logistic Regression')\n",
        "plt.xlabel('False Positive Rate')\n",
        "plt.ylabel('True Positive Rate')\n",
        "plt.title('Logistic Regression ROC Curve')\n",
        "plt.show();"
      ],
      "execution_count": 22,
      "outputs": [
        {
          "output_type": "display_data",
          "data": {
            "image/png": "[encoded data removed]",
            "text/plain": [
              "<Figure size 432x288 with 1 Axes>"
            ]
          },
          "metadata": {
            "tags": [],
            "needs_background": "light"
          }
        }
      ]
    },
    {
      "cell_type": "markdown",
      "metadata": {
        "id": "kUVqakRZWiJo"
      },
      "source": [
        "As you can see, the ROC curve provides a nice visual way to assess the classifier's performance."
      ]
    },
    {
      "cell_type": "markdown",
      "metadata": {
        "id": "9UwbpFEOsc7P"
      },
      "source": [
        "### **Area under the ROC Curve (AUC)**"
      ]
    },
    {
      "cell_type": "markdown",
      "metadata": {
        "id": "2dcQlQQ1scBf"
      },
      "source": [
        "When it comes to the ROC curve, the larger the area under the curve, the better the model is. If the model produced an ROC curve that had a single point in the upper left corner, representing a true positive rate of one and a false positive rate of zero, this would be a very well performing model. \n",
        "\n",
        "For this reason the *area under the ROC* (AUC), is another popular metric for classification models. The first step in computing the AUC is to compute the predicted probabilities and then pass the true labels and the predicted probabilities to roc_auc_score from sklearn. \n",
        "\n",
        "In the simplest terms, if the AUC is greater than **0.5**, the model is better than random guessing."
      ]
    },
    {
      "cell_type": "code",
      "metadata": {
        "colab": {
          "base_uri": "https://localhost:8080/"
        },
        "id": "6SDaDqUmrFkC",
        "outputId": "6475fdd9-db3b-4540-aed3-d0982f68ec18"
      },
      "source": [
        "roc_auc_score(y_test, y_pred_prob)"
      ],
      "execution_count": 23,
      "outputs": [
        {
          "output_type": "execute_result",
          "data": {
            "text/plain": [
              "0.7744727730563425"
            ]
          },
          "metadata": {
            "tags": []
          },
          "execution_count": 23
        }
      ]
    },
    {
      "cell_type": "markdown",
      "metadata": {
        "id": "kzQhK4fRxBN6"
      },
      "source": [
        "The AUC of the logistic regression model is **0.77**."
      ]
    },
    {
      "cell_type": "markdown",
      "metadata": {
        "id": "NuONLRaat7gf"
      },
      "source": [
        "AUC can also be calculated using cross-validation.\n",
        "\n",
        "This is done with the function cross_val_score. The function takes the estimator, the features, and the target as arguments. Then set the number of folds, in this case five, and then set the scoring argument to 'roc_auc'."
      ]
    },
    {
      "cell_type": "code",
      "metadata": {
        "colab": {
          "base_uri": "https://localhost:8080/"
        },
        "id": "x7GfF8FPrQu8",
        "outputId": "d8178c8e-b31a-47d3-be14-7eda8326fcf1"
      },
      "source": [
        "# Cross-validation AUC scores\n",
        "cv_scores = cross_val_score(model, features, labels, cv=5, scoring='roc_auc')\n",
        "\n",
        "print(cv_scores)"
      ],
      "execution_count": 24,
      "outputs": [
        {
          "output_type": "stream",
          "text": [
            "[0.88293437 0.59966262 0.79709852 0.72287449 0.80636364]\n"
          ],
          "name": "stdout"
        }
      ]
    },
    {
      "cell_type": "markdown",
      "metadata": {
        "id": "boNtWrVCw3vo"
      },
      "source": [
        "The best performing model has an AUC of **0.88**."
      ]
    },
    {
      "cell_type": "markdown",
      "metadata": {
        "id": "e8uT7LXgsJDv"
      },
      "source": [
        "## **Conclusion**"
      ]
    },
    {
      "cell_type": "markdown",
      "metadata": {
        "id": "BWmfRroJ1FOo"
      },
      "source": [
        "To wrap up, I have plotted the predictions and compared them to the xG provided by Statsbomb."
      ]
    },
    {
      "cell_type": "code",
      "metadata": {
        "id": "kwor5GDo1FOn",
        "colab": {
          "base_uri": "https://localhost:8080/",
          "height": 265
        },
        "outputId": "40cc191f-de37-48fe-a86b-cb56691e4d4c"
      },
      "source": [
        "plt.plot(sorted(predictions))\n",
        "plt.show()"
      ],
      "execution_count": null,
      "outputs": [
        {
          "output_type": "display_data",
          "data": {
            "image/png": "[encoded data removed]",
            "text/plain": [
              "<Figure size 432x288 with 1 Axes>"
            ]
          },
          "metadata": {
            "tags": [],
            "needs_background": "light"
          }
        }
      ]
    },
    {
      "cell_type": "markdown",
      "metadata": {
        "id": "6ga6qEWs81GI"
      },
      "source": [
        "Above, you can see the model predicts that most shots are unlikely to result in a goal, and only a narrow range of opportunities have a goal probability of greater than '0.5'. Although this is a relatively small sample of shots, this model can provide insight on which shot locations, both from the perspective of distance and goal angle, provide the best probability of scoring."
      ]
    },
    {
      "cell_type": "code",
      "metadata": {
        "id": "_2Txk1fY1FOo",
        "colab": {
          "base_uri": "https://localhost:8080/",
          "height": 265
        },
        "outputId": "1184a325-02d2-4d0b-a25a-e99deb620eeb"
      },
      "source": [
        "plt.plot(sorted(shots['statsbomb_xg']))\n",
        "plt.show()"
      ],
      "execution_count": null,
      "outputs": [
        {
          "output_type": "display_data",
          "data": {
            "image/png": "[encoded data removed]",
            "text/plain": [
              "<Figure size 432x288 with 1 Axes>"
            ]
          },
          "metadata": {
            "tags": [],
            "needs_background": "light"
          }
        }
      ]
    },
    {
      "cell_type": "markdown",
      "metadata": {
        "id": "nqVY__h01FOp"
      },
      "source": [
        "When comparing the predicitons to StatsBomb's goal expectation estimates, the distributions are quite similar, which is exactly what we are looking for.\n",
        "\n",
        "A model like this can provide insight on the characteristics of a shot that will most likely lead to a goal. \n",
        "\n",
        "This reminds me of the evolution in basketball that lead to a massive increase in both the number of three point attempts and the efficiency of three point shooting over the past decade. \n",
        "\n",
        "I hope that models like this can be a very small part of a shift towards more shots being taken in locations that are most likely to result in a goal and better conversion on those shots (defenders, look away).\n",
        "\n",
        "> Here's to **more goals**!"
      ]
    }
  ]
}